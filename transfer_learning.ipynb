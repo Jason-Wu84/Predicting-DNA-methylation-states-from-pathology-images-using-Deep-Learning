{
 "cells": [
  {
   "cell_type": "markdown",
   "metadata": {},
   "source": [
    "In this notebook, we load the files in the data folder and rename them\n",
    "\n",
    "Let's do gene DDB2: 0.92 AUC with the classifier"
   ]
  },
  {
   "cell_type": "code",
   "execution_count": 1,
   "metadata": {
    "collapsed": false
   },
   "outputs": [
    {
     "name": "stderr",
     "output_type": "stream",
     "text": [
      "Using TensorFlow backend.\n"
     ]
    }
   ],
   "source": [
    "from keras.applications.inception_v3 import InceptionV3\n",
    "from keras.applications.vgg19 import VGG19\n",
    "from keras.applications.resnet50 import ResNet50\n",
    "from keras.preprocessing import image\n",
    "from keras.models import Model\n",
    "from keras.layers import Dense, GlobalAveragePooling2D\n",
    "from keras import backend as K\n",
    "from keras.layers.core import Dropout\n",
    "from keras.optimizers import Adam\n",
    "from keras.utils import to_categorical\n",
    "from keras.models import load_model\n",
    "from keras import metrics\n",
    "\n",
    "\n",
    "import numpy as np\n",
    "import os\n",
    "from PIL import Image\n",
    "import matplotlib.pyplot as plt\n",
    "%matplotlib inline\n",
    "plt.rcParams['figure.figsize'] = (10.0, 8.0) # set default size of plots\n",
    "plt.rcParams['image.interpolation'] = 'nearest'\n",
    "plt.rcParams['image.cmap'] = 'gray'\n",
    "\n",
    "\n",
    "list_not_dir = ['gdc_manifest_20170512_072412.txt', 'test.svs', 'y_train.txt', 'gdc-client']"
   ]
  },
  {
   "cell_type": "code",
   "execution_count": 2,
   "metadata": {
    "collapsed": true
   },
   "outputs": [],
   "source": [
    "#import shutil\n",
    "#for filename in os.listdir(\"/home/cedoz/radiogenomics/data/\"):\n",
    "#    if filename not in list_not_dir:\n",
    "#        if filename[-3:] != \"svs\":\n",
    "#            my_path = \"/home/cedoz/radiogenomics/data/%s\"%filename\n",
    "#            svs_image = [f for f in os.listdir(my_path) if os.path.isfile(os.path.join(my_path, f)) if f != \"annotations.txt\"]\n",
    "#            os.chdir(my_path)\n",
    "#            if svs_image != []:\n",
    "#                if len(str(svs_image[0]>12)):\n",
    "#                    os.rename(svs_image[0], svs_image[0][:12] + \".svs\")\n",
    "#                    shutil.move(svs_image[0][:12] + \".svs\", os.path.join(\"/home/cedoz/radiogenomics/data/\", svs_image[0][:12] + \".svs\"))\n",
    "#            shutil.rmtree(my_path)\n",
    "#os.chdir(\"/home/cedoz/radiogenomics/\")"
   ]
  },
  {
   "cell_type": "code",
   "execution_count": 5,
   "metadata": {
    "collapsed": false
   },
   "outputs": [],
   "source": [
    "import random\n",
    "\n",
    "y_train_global = {}\n",
    "with open(\"data/y_train.txt\") as f:\n",
    "    for line in f:\n",
    "        (key, val) = line.split()\n",
    "        key = str(key).replace('.','-')\n",
    "        y_train_global[key] = int(val)\n",
    "\n",
    "svs_images = []\n",
    "for filename in os.listdir(\"/home/cedoz/radiogenomics/data/\"):\n",
    "    if filename not in list_not_dir:\n",
    "        svs_images.append(filename[:-4])\n",
    "        \n",
    "#intersect_samples = [val for val in svs_images if val in y_train_global.keys()]\n",
    "#random.shuffle(intersect_samples)\n",
    "#np.save(\"intersect_samples.npy\", intersect_samples)\n",
    "\n",
    "intersect_samples = np.load(\"intersect_samples.npy\")"
   ]
  },
  {
   "cell_type": "code",
   "execution_count": 7,
   "metadata": {
    "collapsed": false
   },
   "outputs": [
    {
     "data": {
      "text/plain": [
       "array([1, 1, 1, 1, 0, 0, 1, 0, 1, 0, 0, 1, 1, 0, 0, 1, 1, 1, 1, 1, 1, 0, 1,\n",
       "       1, 0, 0, 1, 0, 1, 1, 1, 1, 0, 0, 1, 1, 1, 0, 1, 1, 1, 1, 1, 0, 1, 0,\n",
       "       1, 1, 1, 0, 1, 1, 1, 0, 0, 0, 1, 1, 0, 1, 1, 1, 1, 1, 0, 0, 0, 1, 1,\n",
       "       0, 1, 0, 1, 0, 1, 0, 0, 1, 1, 0, 1, 0, 1, 0, 0, 0, 0, 0, 0, 1, 1, 0,\n",
       "       0, 1, 0, 1, 0, 0, 0, 0, 0, 0, 0, 0, 0, 0, 0, 0, 1, 0, 1, 1, 0, 1, 1,\n",
       "       1, 1, 1, 0, 0, 1, 0, 1, 0, 0, 1, 1, 1, 0, 0, 1, 1, 0, 0, 0, 1, 1, 0,\n",
       "       0, 1, 1, 0, 1, 0, 0, 1, 1, 1, 0, 0, 0, 1, 0, 1, 0, 1, 0, 1, 0, 0, 0,\n",
       "       1, 0, 1, 1, 1, 1, 1, 0, 0, 1, 1, 0, 1, 1, 1, 0, 0, 1, 1, 1, 0, 0, 0,\n",
       "       0, 0, 0, 0, 1, 0, 0, 1, 0, 0, 0, 0, 1, 1, 0, 1, 1, 0, 0, 1, 0, 0, 1,\n",
       "       0, 0, 1, 1, 0, 0, 1, 0, 1, 1, 1, 1, 1, 0, 1, 1, 1, 1, 1, 1, 0, 1, 0,\n",
       "       1, 1, 0, 1, 0, 0, 0, 0, 0, 1, 0, 1, 0, 1, 0, 0, 0, 1, 0, 0, 0, 1, 0,\n",
       "       0, 0, 1, 0, 0, 0, 0, 0, 0, 1, 1, 1, 0, 1, 1, 0, 0, 0, 0, 0, 1, 0, 1,\n",
       "       0, 1, 1, 1, 1, 0, 1, 1, 1, 0, 1, 0, 0, 1, 0, 0, 0, 0, 1, 1, 1, 1, 1,\n",
       "       1, 1, 0, 1, 0, 0, 1, 0, 0, 1, 1, 0, 1, 1, 0, 1, 1, 1, 0, 0, 0, 1, 0,\n",
       "       1, 1, 0, 1, 1, 1, 1, 0, 1, 0, 0, 0, 1, 0, 1, 1, 0, 1])"
      ]
     },
     "execution_count": 7,
     "metadata": {},
     "output_type": "execute_result"
    }
   ],
   "source": [
    "np.array(([y_train_global[filename] for filename in intersect_samples]))"
   ]
  },
  {
   "cell_type": "code",
   "execution_count": 37,
   "metadata": {
    "collapsed": false
   },
   "outputs": [],
   "source": [
    "low_resolution = False\n",
    "high_resolution = True\n",
    "rebuild = False\n",
    "test_size = 0.3\n",
    "\n",
    "if rebuild:\n",
    "    filenames = os.listdir(\"/home/cedoz/radiogenomics/preprocessed/\")\n",
    "    np.random.shuffle(filenames)\n",
    "    train_filenames = filenames[:int(len(filenames)*(1-test_size))]\n",
    "    test_filenames = filenames[int(len(filenames)*(1-test_size)):]\n",
    "    X_train = np.zeros((1,224,224,3))\n",
    "    y_train = np.zeros((1,1))\n",
    "    X_test = {}\n",
    "    y_test = np.array(([y_train_global[filename[2:-4]] for filename in test_filenames]))\n",
    "    \n",
    "    if low_resolution:\n",
    "        print(\"processing low resolution images...\")\n",
    "    if high_resolution:\n",
    "        print(\"processing high resolution images...\")\n",
    "    \n",
    "    count = 0\n",
    "    for filename in train_filenames:\n",
    "        count +=1\n",
    "        print(\"processing train sample %d out of %d\"%(count, len(train_filenames)))\n",
    "        X = np.load(\"preprocessed/%s\"%filename)\n",
    "        new_X = np.zeros((X.shape[0],224,224,3))\n",
    "        if low_resolution:\n",
    "            for idx in range(X.shape[0]):\n",
    "                patch = np.int8(X[idx])\n",
    "                patch = Image.fromarray(patch, 'RGB')\n",
    "                patch.thumbnail((224,224))\n",
    "                new_X[idx] = np.array(patch.getdata()).reshape((224,224,3))\n",
    "        if high_resolution:\n",
    "            for idx in range(X.shape[0]):\n",
    "                #Select a small patch in the middle of the image\n",
    "                new_X[idx] = X[idx][335:559,335:559,:]              \n",
    "        new_y = y_train_global[filename[2:-4]]*np.ones((new_X.shape[0],1))\n",
    "        X_train = np.append(X_train, new_X, axis=0)\n",
    "        y_train = np.append(y_train, new_y, axis=0)\n",
    "    X_train = X_train[1:]\n",
    "    y_train = y_train[1:]\n",
    "    \n",
    "    count = 0\n",
    "    for filename in test_filenames:  \n",
    "        count +=1\n",
    "        print(\"processing test sample %d out of %d\"%(count, len(train_filenames)))\n",
    "        X = np.load(\"preprocessed/%s\"%filename)\n",
    "        new_X = np.zeros((X.shape[0],224,224,3))\n",
    "        if low_resolution:\n",
    "            for idx in range(X.shape[0]):\n",
    "                patch = np.int8(X[idx])\n",
    "                patch = Image.fromarray(patch, 'RGB')\n",
    "                patch.thumbnail((224,224))\n",
    "                new_X[idx] = np.array(patch.getdata()).reshape((224,224,3))\n",
    "        if high_resolution:\n",
    "            for idx in range(X.shape[0]):\n",
    "                #Select a small patch in the middle of the image\n",
    "                new_X[idx] = X[idx][335:559,335:559,:] \n",
    "        X_test[filename] = new_X\n",
    "    \n",
    "    if low_resolution:\n",
    "        np.save(\"X_low_resolution.npy\", X_train)\n",
    "        np.save(\"y_low_resolution.npy\", y_train)    \n",
    "        np.save(\"X_test_low_resolution.npy\", X_test)\n",
    "        np.save(\"y_test_low_resolution.npy\", y_test)\n",
    "    if high_resolution:\n",
    "        np.save(\"X_high_resolution.npy\", X_train)\n",
    "        np.save(\"y_high_resolution.npy\", y_train)    \n",
    "        np.save(\"X_test_high_resolution.npy\", X_test)\n",
    "        np.save(\"y_test_high_resolution.npy\", y_test)\n",
    "\n",
    "if low_resolution:\n",
    "    X = np.load(\"X_low_resolution.npy\")\n",
    "    y = np.load(\"y_low_resolution.npy\")\n",
    "    X_test = np.load(\"X_test_low_resolution.npy\").item()\n",
    "    y_test = np.load(\"y_test_low_resolution.npy\")\n",
    "if high_resolution:\n",
    "    X = np.load(\"X_high_resolution.npy\")\n",
    "    y = np.load(\"y_high_resolution.npy\")\n",
    "    X_test = np.load(\"X_test_high_resolution.npy\").item()\n",
    "    y_test = np.load(\"y_test_high_resolution.npy\")\n"
   ]
  },
  {
   "cell_type": "code",
   "execution_count": 38,
   "metadata": {
    "collapsed": false
   },
   "outputs": [
    {
     "name": "stdout",
     "output_type": "stream",
     "text": [
      "(2769, 224, 224, 3) (2769, 1)\n",
      "5 (5,)\n"
     ]
    }
   ],
   "source": [
    "from sklearn.model_selection import train_test_split\n",
    "\n",
    "X_train, _, y_train, _ = train_test_split(X, y, test_size=0, random_state=0)\n",
    "\n",
    "print(X_train.shape, y_train.shape)\n",
    "print(len(X_test), y_test.shape)\n",
    "\n",
    "#for filename in os.listdir(\"/home/cedoz/radiogenomics/preprocessed/\"):\n",
    "#    print (y_train[filename[2:-4]])"
   ]
  },
  {
   "cell_type": "markdown",
   "metadata": {
    "collapsed": false
   },
   "source": [
    "# Deep Learning"
   ]
  },
  {
   "cell_type": "markdown",
   "metadata": {
    "collapsed": false
   },
   "source": [
    "## Inception V3"
   ]
  },
  {
   "cell_type": "code",
   "execution_count": 71,
   "metadata": {
    "collapsed": false
   },
   "outputs": [
    {
     "name": "stdout",
     "output_type": "stream",
     "text": [
      "Train on 2215 samples, validate on 554 samples\n",
      "Epoch 1/10\n",
      "2215/2215 [==============================] - 27s - loss: 0.4573 - acc: 0.7725 - val_loss: 1.6416 - val_acc: 0.4711\n",
      "Epoch 2/10\n",
      "2215/2215 [==============================] - 25s - loss: 0.3154 - acc: 0.8718 - val_loss: 1.5787 - val_acc: 0.5126\n",
      "Epoch 3/10\n",
      "2215/2215 [==============================] - 25s - loss: 0.2132 - acc: 0.9156 - val_loss: 0.3672 - val_acc: 0.8430\n",
      "Epoch 4/10\n",
      "2215/2215 [==============================] - 25s - loss: 0.2688 - acc: 0.8935 - val_loss: 0.2349 - val_acc: 0.9043\n",
      "Epoch 5/10\n",
      "2215/2215 [==============================] - 25s - loss: 0.1885 - acc: 0.9255 - val_loss: 0.1176 - val_acc: 0.9567\n",
      "Epoch 6/10\n",
      "2215/2215 [==============================] - 25s - loss: 0.1914 - acc: 0.9192 - val_loss: 0.1271 - val_acc: 0.9549\n",
      "Epoch 7/10\n",
      "2215/2215 [==============================] - 25s - loss: 0.1588 - acc: 0.9377 - val_loss: 0.1346 - val_acc: 0.9477\n",
      "Epoch 8/10\n",
      "2215/2215 [==============================] - 25s - loss: 0.1533 - acc: 0.9431 - val_loss: 0.2502 - val_acc: 0.9043\n",
      "Epoch 9/10\n",
      "2215/2215 [==============================] - 25s - loss: 0.1765 - acc: 0.9282 - val_loss: 0.1172 - val_acc: 0.9567\n",
      "Epoch 10/10\n",
      "2215/2215 [==============================] - 25s - loss: 0.1502 - acc: 0.9413 - val_loss: 0.1064 - val_acc: 0.9621\n"
     ]
    }
   ],
   "source": [
    "# create the base pre-trained model\n",
    "base_model = InceptionV3(weights='imagenet', include_top=False, pooling = 'avg', input_shape = (224,224,3))\n",
    "x = base_model.output\n",
    "x = Dropout(0.5)(x)\n",
    "x = Dense(1024, activation='relu')(x)\n",
    "x = Dropout(0.5)(x)\n",
    "x = Dense(1024, activation='relu')(x)\n",
    "logits = Dense(1, activation='sigmoid')(x)\n",
    "model = Model(inputs=base_model.input, outputs=logits)\n",
    "\n",
    "for layer in base_model.layers:\n",
    "    layer.trainable = False\n",
    "\n",
    "# compile the model (should be done *after* setting layers to non-trainable)\n",
    "adam = Adam(lr=3e-4, beta_1=0.9, beta_2=0.999, epsilon=1e-08, decay=1e-6)\n",
    "model.compile(optimizer=adam, loss='binary_crossentropy', metrics = ['accuracy'])\n",
    "\n",
    "history1 = model.fit(X_train, y_train, batch_size=32, epochs=10, verbose=1, validation_split=0.2)\n",
    "\n",
    "model.save('models/InceptionV3_inter_3e-4.h5')"
   ]
  },
  {
   "cell_type": "code",
   "execution_count": null,
   "metadata": {
    "collapsed": true
   },
   "outputs": [],
   "source": [
    "#Fine tune the two previous inception layers\n",
    "model = load_model('models/InceptionV3_inter_3e-4.h5')\n",
    "\n",
    "for layer in model.layers[:249]:\n",
    "   layer.trainable = False\n",
    "for layer in model.layers[249:]:\n",
    "   layer.trainable = True\n",
    "\n",
    "adam = Adam(lr=1e-6, beta_1=0.9, beta_2=0.999, epsilon=1e-08, decay=1e-6)\n",
    "model.compile(optimizer=adam, loss='binary_crossentropy', metrics = ['accuracy'])\n",
    "\n",
    "history2 = model.fit(X_train, y_train, batch_size=32, epochs=10, verbose=1, validation_split=0.2)\n",
    "model.save('models/InceptionV3_final_3e-4_1e-6.h5')"
   ]
  },
  {
   "cell_type": "markdown",
   "metadata": {},
   "source": [
    "## ResNet50"
   ]
  },
  {
   "cell_type": "code",
   "execution_count": null,
   "metadata": {
    "collapsed": true
   },
   "outputs": [],
   "source": [
    "# create the base pre-trained model\n",
    "base_model = ResNet50(weights='imagenet', include_top=False, pooling = 'avg', input_shape = (224,224,3))\n",
    "x = base_model.output\n",
    "x = Dense(1024, activation='relu')(x)\n",
    "x = Dropout(0.5)(x)\n",
    "x = Dense(1024, activation='relu')(x)\n",
    "x = Dropout(0.5)(x)\n",
    "logits = Dense(1, activation='sigmoid')(x)\n",
    "model = Model(inputs=base_model.input, outputs=logits)\n",
    "\n",
    "for layer in base_model.layers:\n",
    "    layer.trainable = False\n",
    "\n",
    "# compile the model (should be done *after* setting layers to non-trainable)\n",
    "adam = Adam(lr=3e-4, beta_1=0.9, beta_2=0.999, epsilon=1e-08, decay=1e-6)\n",
    "model.compile(optimizer=adam, loss='binary_crossentropy', metrics = ['accuracy'])\n",
    "\n",
    "history1 = model.fit(X_train, y_train, batch_size=32, epochs=10, verbose=1, validation_split=0.2)\n",
    "\n",
    "model.save('models/ResNet50_inter_3e-4.h5')"
   ]
  },
  {
   "cell_type": "code",
   "execution_count": null,
   "metadata": {
    "collapsed": true
   },
   "outputs": [],
   "source": [
    "#Fine tune the two previous residual layers\n",
    "\n",
    "model = load_model('models/ResNet50_inter_3e-4.h5')\n",
    "\n",
    "for layer in model.layers[:249]:\n",
    "   layer.trainable = False\n",
    "for layer in model.layers[249:]:\n",
    "   layer.trainable = True\n",
    "\n",
    "adam = Adam(lr=1e-6, beta_1=0.9, beta_2=0.999, epsilon=1e-08, decay=1e-6)\n",
    "model.compile(optimizer=adam, loss='binary_crossentropy', metrics = ['accuracy'])\n",
    "\n",
    "history2 = model.fit(X_train, y_train, batch_size=32, epochs=10, verbose=1, validation_split=0.2)\n",
    "model.save('models/InceptionV3_final_3e-4_5e-6.h5')"
   ]
  },
  {
   "cell_type": "markdown",
   "metadata": {},
   "source": [
    "## Plot learning curves"
   ]
  },
  {
   "cell_type": "code",
   "execution_count": 55,
   "metadata": {
    "collapsed": false
   },
   "outputs": [
    {
     "name": "stdout",
     "output_type": "stream",
     "text": [
      "dict_keys(['loss', 'val_acc', 'acc', 'val_loss'])\n"
     ]
    },
    {
     "data": {
      "image/png": "[encoded data removed]",
      "text/plain": [
       "<matplotlib.figure.Figure at 0x7fd6489931d0>"
      ]
     },
     "metadata": {},
     "output_type": "display_data"
    },
    {
     "data": {
      "image/png": "[encoded data removed]",
      "text/plain": [
       "<matplotlib.figure.Figure at 0x7fd648949198>"
      ]
     },
     "metadata": {},
     "output_type": "display_data"
    }
   ],
   "source": [
    "history = history1\n",
    "# list all data in history\n",
    "print(history.history.keys())\n",
    "\n",
    "plt.figure(figsize = (15,4))\n",
    "\n",
    "# summarize history for accuracy\n",
    "ax1 = plt.subplot(121)\n",
    "plt.plot(history.history['acc'])\n",
    "plt.plot(history.history['val_acc'])\n",
    "plt.title('model accuracy')\n",
    "plt.ylabel('accuracy')\n",
    "plt.xlabel('epoch')\n",
    "plt.legend(['train', 'test'], loc='upper left')\n",
    "plt.show()\n",
    "\n",
    "plt.figure(figsize = (15,4))\n",
    "\n",
    "# summarize history for loss\n",
    "ax2 = plt.subplot(122)\n",
    "plt.plot(history.history['loss'])\n",
    "plt.plot(history.history['val_loss'])\n",
    "plt.title('model loss')\n",
    "plt.ylabel('loss')\n",
    "plt.xlabel('epoch')\n",
    "plt.legend(['train', 'test'], loc='upper left')\n",
    "plt.show()"
   ]
  },
  {
   "cell_type": "markdown",
   "metadata": {
    "collapsed": true
   },
   "source": [
    "## Model evaluation on the test set"
   ]
  },
  {
   "cell_type": "code",
   "execution_count": 73,
   "metadata": {
    "collapsed": false
   },
   "outputs": [
    {
     "name": "stdout",
     "output_type": "stream",
     "text": [
      "33/33 [==============================] - 0s     \n",
      "0.305878\n",
      "139/139 [==============================] - 1s     \n",
      "0.271353\n",
      "229/229 [==============================] - 2s     \n",
      "0.169462\n",
      "401/401 [==============================] - 3s     \n",
      "0.224489\n",
      "379/379 [==============================] - 3s     \n",
      "0.74545\n"
     ]
    },
    {
     "data": {
      "text/plain": [
       "0.59999999999999998"
      ]
     },
     "execution_count": 73,
     "metadata": {},
     "output_type": "execute_result"
    }
   ],
   "source": [
    "test_filenames = X_test.keys()\n",
    "y_test = np.array(([y_train_global[filename[2:-4]] for filename in test_filenames]))\n",
    "y_pred = []\n",
    "for filename in test_filenames:\n",
    "    y_preds = model.predict(X_test[filename], batch_size=32, verbose=1)\n",
    "    print(np.mean(y_preds))\n",
    "    y_pred.append((int(np.mean(y_preds>0.5)>0.5)))\n",
    "test_accuracy = np.mean(y_pred == y_test)\n",
    "test_accuracy"
   ]
  },
  {
   "cell_type": "code",
   "execution_count": 85,
   "metadata": {
    "collapsed": false
   },
   "outputs": [
    {
     "name": "stdout",
     "output_type": "stream",
     "text": [
      "[1 0 1 0 1]\n"
     ]
    }
   ],
   "source": [
    "print(y_test)"
   ]
  },
  {
   "cell_type": "code",
   "execution_count": null,
   "metadata": {
    "collapsed": true
   },
   "outputs": [],
   "source": []
  }
 ],
 "metadata": {
  "kernelspec": {
   "display_name": "Python 3",
   "language": "python",
   "name": "python3"
  },
  "language_info": {
   "codemirror_mode": {
    "name": "ipython",
    "version": 3
   },
   "file_extension": ".py",
   "mimetype": "text/x-python",
   "name": "python",
   "nbconvert_exporter": "python",
   "pygments_lexer": "ipython3",
   "version": "3.5.2"
  }
 },
 "nbformat": 4,
 "nbformat_minor": 0
}
